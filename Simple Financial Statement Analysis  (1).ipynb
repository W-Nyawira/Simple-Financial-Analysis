{
 "cells": [
  {
   "cell_type": "markdown",
   "metadata": {
    "collapsed": true
   },
   "source": [
    "##Financial Statement Analysis\n"
   ]
  },
  {
   "cell_type": "code",
   "execution_count": 24,
   "metadata": {},
   "outputs": [],
   "source": [
    "#Import the necessary libraries\n",
    "\n",
    "import pandas as pd\n",
    "import numpy as np\n",
    "\n",
    "\n",
    "#Provided Data \n",
    "revenue = [14574.49, 7606.46, 8611.41, 9175.41, 8058.65, 8105.44, 11496.28, 9766.09, 10305.32, 14379.96, 10713.97, 15433.50]\n",
    "expenses = [12051.82, 5695.07, 12319.20, 12089.72, 8658.57, 840.20, 3285.73, 5821.12, 6976.93, 16618.61, 10054.37, 3803.96]\n",
    "\n",
    "\n"
   ]
  },
  {
   "cell_type": "code",
   "execution_count": 17,
   "metadata": {},
   "outputs": [
    {
     "data": {
      "text/plain": [
       "[2522.67,\n",
       " 1911.3900000000003,\n",
       " -3707.790000000001,\n",
       " -2914.3099999999995,\n",
       " -599.9200000000001,\n",
       " 7265.24,\n",
       " 8210.550000000001,\n",
       " 3944.9700000000003,\n",
       " 3328.3899999999994,\n",
       " -2238.6500000000015,\n",
       " 659.5999999999985,\n",
       " 11629.54]"
      ]
     },
     "execution_count": 17,
     "metadata": {},
     "output_type": "execute_result"
    }
   ],
   "source": [
    "# Calculating Profit which is revenue-expenses\n",
    "\n",
    "profit=list([])\n",
    "\n",
    "for i in range(0, len(revenue)):\n",
    "    profit.append(revenue[i]-expenses[i])\n",
    "    \n",
    "profit"
   ]
  },
  {
   "cell_type": "code",
   "execution_count": 18,
   "metadata": {},
   "outputs": [
    {
     "data": {
      "text/plain": [
       "[756.8,\n",
       " 573.42,\n",
       " -1112.34,\n",
       " -874.29,\n",
       " -179.98,\n",
       " 2179.57,\n",
       " 2463.17,\n",
       " 1183.49,\n",
       " 998.52,\n",
       " -671.6,\n",
       " 197.88,\n",
       " 3488.86]"
      ]
     },
     "execution_count": 18,
     "metadata": {},
     "output_type": "execute_result"
    }
   ],
   "source": [
    "# Calculate profit after tax for each month (tax rate is 30%)\n",
    "\n",
    "tax_per_month=[round(i*0.3, 2) for i in profit]\n",
    "\n",
    "tax_per_month"
   ]
  },
  {
   "cell_type": "code",
   "execution_count": 32,
   "metadata": {},
   "outputs": [
    {
     "name": "stdout",
     "output_type": "stream",
     "text": [
      "[1765.8700000000001, 1337.9700000000003, -2595.4500000000007, -2040.0199999999995, -419.94000000000005, 5085.67, 5747.380000000001, 2761.4800000000005, 2329.8699999999994, -1567.0500000000015, 461.71999999999855, 8140.68]\n",
      "[0.12116170102693131, 0.17589916991609766, -0.3013966353942038, -0.22233556865578755, -0.05211046515235183, 0.6274391026273712, 0.4999338916588671, 0.2827620880004178, 0.2260841972883908, -0.10897457294735184, 0.04309513653668982, 0.527468169890174]\n"
     ]
    }
   ],
   "source": [
    "# Calculate Profit margin for each month(profit margin is profit after tax divided by revenue)\n",
    "\n",
    "profit_after_tax=([])\n",
    "\n",
    "for i in range(0, len(profit)):\n",
    "    profit_after_tax.append(profit[i]-tax_per_month[i])\n",
    "    \n",
    "print(profit_after_tax)\n",
    "\n",
    "#calculating the profit margin\n",
    "\n",
    "profit_margin=list ([])\n",
    "\n",
    "for i in range(0, len(revenue)):\n",
    "    profit_margin.append(profit_after_tax[i]/ revenue[i])\n",
    "    \n",
    "print (profit_margin)"
   ]
  },
  {
   "cell_type": "code",
   "execution_count": 34,
   "metadata": {},
   "outputs": [
    {
     "data": {
      "text/plain": [
       "1750.6816666666666"
      ]
     },
     "execution_count": 34,
     "metadata": {},
     "output_type": "execute_result"
    }
   ],
   "source": [
    "#calculating months when the profit is greater than the mean for the year\n",
    "\n",
    "#change the profit margin into percentages\n",
    "\n",
    "profit_margin= [round((i*100),2) for i in profit_margin]\n",
    "\n",
    "profit_margin\n",
    "\n",
    "\n",
    "avg_profit_after_tax= sum(profit_after_tax)/ len(profit_after_tax)\n",
    "\n",
    "avg_profit_after_tax\n",
    "\n"
   ]
  },
  {
   "cell_type": "code",
   "execution_count": 35,
   "metadata": {},
   "outputs": [
    {
     "data": {
      "text/plain": [
       "[True, False, False, False, False, True, True, True, True, False, False, True]"
      ]
     },
     "execution_count": 35,
     "metadata": {},
     "output_type": "execute_result"
    }
   ],
   "source": [
    "#calculating the good months, profit_after_Tax> avg_profit_after_Tax\n",
    "\n",
    "good_months=list([])\n",
    "\n",
    "for i in range(0, len(profit_after_tax)):\n",
    "    good_months.append(profit_after_tax[i]>avg_profit_after_tax)\n",
    "    \n",
    "    \n",
    "good_months"
   ]
  },
  {
   "cell_type": "code",
   "execution_count": 36,
   "metadata": {},
   "outputs": [
    {
     "data": {
      "text/plain": [
       "[False, True, True, True, True, False, False, False, False, True, True, False]"
      ]
     },
     "execution_count": 36,
     "metadata": {},
     "output_type": "execute_result"
    }
   ],
   "source": [
    "#Caclulating the bad months, profit_after_tax< avg_profit_after_tax\n",
    "bad_months=list([])\n",
    "\n",
    "for i in range(0, len(profit_after_tax)):\n",
    "    bad_months.append(profit_after_tax[i]< avg_profit_after_tax)\n",
    "    \n",
    "bad_months"
   ]
  },
  {
   "cell_type": "code",
   "execution_count": 37,
   "metadata": {},
   "outputs": [
    {
     "data": {
      "text/plain": [
       "8140.68"
      ]
     },
     "execution_count": 37,
     "metadata": {},
     "output_type": "execute_result"
    }
   ],
   "source": [
    "#calculating the best months, where the profit_after_tax was max for the year\n",
    "\n",
    "max_profit= max(profit_after_tax)\n",
    "\n",
    "max_profit"
   ]
  },
  {
   "cell_type": "code",
   "execution_count": 38,
   "metadata": {},
   "outputs": [
    {
     "data": {
      "text/plain": [
       "-2595.4500000000007"
      ]
     },
     "execution_count": 38,
     "metadata": {},
     "output_type": "execute_result"
    }
   ],
   "source": [
    "#Caclulating the worst month, where the profit_after_tax was min for the whole year\n",
    "\n",
    "min_profit= min(profit_after_tax)\n",
    "\n",
    "min_profit"
   ]
  }
 ],
 "metadata": {
  "kernelspec": {
   "display_name": "Python 3 (ipykernel)",
   "language": "python",
   "name": "python3"
  },
  "language_info": {
   "codemirror_mode": {
    "name": "ipython",
    "version": 3
   },
   "file_extension": ".py",
   "mimetype": "text/x-python",
   "name": "python",
   "nbconvert_exporter": "python",
   "pygments_lexer": "ipython3",
   "version": "3.11.5"
  }
 },
 "nbformat": 4,
 "nbformat_minor": 1
}
